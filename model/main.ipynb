{
 "cells": [
  {
   "cell_type": "markdown",
   "metadata": {
    "collapsed": false,
    "jupyter": {
     "outputs_hidden": false
    },
    "pycharm": {
     "name": "#%% md\n"
    }
   },
   "source": [
    "# Import classes and functions"
   ]
  },
  {
   "cell_type": "code",
   "execution_count": 1,
   "metadata": {
    "collapsed": false,
    "jupyter": {
     "outputs_hidden": false
    },
    "pycharm": {
     "is_executing": true,
     "name": "#%%\n"
    }
   },
   "outputs": [],
   "source": [
    "from processing import Processing\n",
    "from decision import Decision, get_auc"
   ]
  },
  {
   "cell_type": "markdown",
   "metadata": {
    "collapsed": false,
    "jupyter": {
     "outputs_hidden": false
    },
    "pycharm": {
     "name": "#%% md\n"
    }
   },
   "source": [
    "# Initialize the class Processing and train the model which will process all of our data with the following parameters:"
   ]
  },
  {
   "cell_type": "code",
   "execution_count": 2,
   "metadata": {
    "collapsed": false,
    "jupyter": {
     "outputs_hidden": false
    },
    "pycharm": {
     "name": "#%%\n"
    }
   },
   "outputs": [],
   "source": [
    "doc2vec = Processing(training_directory='../training_data',\n",
    "                     test_directory='../test_data',\n",
    "                     document_or_sentences='sentences',\n",
    "                     lemmatize_or_stemming='lemmatize')"
   ]
  },
  {
   "cell_type": "code",
   "execution_count": 3,
   "metadata": {
    "collapsed": false,
    "jupyter": {
     "outputs_hidden": false
    },
    "pycharm": {
     "name": "#%%\n"
    }
   },
   "outputs": [],
   "source": [
    "doc2vec.train_model()"
   ]
  },
  {
   "cell_type": "markdown",
   "metadata": {
    "collapsed": false,
    "jupyter": {
     "outputs_hidden": false
    },
    "pycharm": {
     "name": "#%% md\n"
    }
   },
   "source": [
    "# Get the training results which returns a dictionary with the file name as the key and the value as the cosine similarity between the document and the training data. This will be used to evaluate the accuracy of the model."
   ]
  },
  {
   "cell_type": "code",
   "execution_count": 4,
   "metadata": {
    "collapsed": false,
    "jupyter": {
     "outputs_hidden": false
    },
    "pycharm": {
     "name": "#%%\n"
    }
   },
   "outputs": [],
   "source": [
    "training_results = doc2vec.get_training_results()"
   ]
  },
  {
   "cell_type": "markdown",
   "metadata": {
    "collapsed": false,
    "jupyter": {
     "outputs_hidden": false
    },
    "pycharm": {
     "name": "#%% md\n"
    }
   },
   "source": [
    "## The classification of the test documents. True is that the text is a plagiarism and False is that the text is not a plagiarism."
   ]
  },
  {
   "cell_type": "code",
   "execution_count": 5,
   "metadata": {
    "collapsed": false,
    "jupyter": {
     "outputs_hidden": false
    },
    "pycharm": {
     "name": "#%%\n"
    }
   },
   "outputs": [],
   "source": [
    "validation_dictionary = {\n",
    "        'FID-01.txt': True,\n",
    "        'FID-02.txt': True,\n",
    "        'FID-03.txt': True,\n",
    "        'FID-04.txt': True,\n",
    "        'FID-05.txt': True,\n",
    "        'FID-06.txt': True,\n",
    "        'FID-07.txt': True,\n",
    "        'FID-08.txt': True,\n",
    "        'FID-09.txt': True,\n",
    "        'FID-10.txt': True,\n",
    "        'org-002.txt': False,\n",
    "        'org-005.txt': False,\n",
    "        'org-012.txt': False,\n",
    "        'org-020.txt': False,\n",
    "        'org-026.txt': False,\n",
    "        'org-040.txt': False,\n",
    "        'org-047.txt': False,\n",
    "        'org-056.txt': False,\n",
    "        'org-059.txt': False,\n",
    "        'org-061.txt': False,\n",
    "        'org-065.txt': False,\n",
    "        'org-071.txt': False,\n",
    "        'org-081.txt': False,\n",
    "        'org-084.txt': False,\n",
    "        'org-090.txt': False,\n",
    "        'org-093.txt': False,\n",
    "        'org-100.txt': False,\n",
    "        'org-001.txt': False,\n",
    "        'org-110.txt': False\n",
    "}"
   ]
  },
  {
   "cell_type": "markdown",
   "metadata": {
    "collapsed": false,
    "jupyter": {
     "outputs_hidden": false
    },
    "pycharm": {
     "name": "#%% md\n"
    }
   },
   "source": [
    "### Initialize the Decision class and get the confusion matrix which will be used to calculate the AUC."
   ]
  },
  {
   "cell_type": "code",
   "execution_count": 6,
   "metadata": {
    "collapsed": false,
    "jupyter": {
     "outputs_hidden": false
    },
    "pycharm": {
     "name": "#%%\n"
    }
   },
   "outputs": [],
   "source": [
    "decision = Decision()"
   ]
  },
  {
   "cell_type": "code",
   "execution_count": 7,
   "metadata": {
    "collapsed": false,
    "jupyter": {
     "outputs_hidden": false
    },
    "pycharm": {
     "name": "#%%\n"
    }
   },
   "outputs": [],
   "source": [
    "confusion_matrix = decision.get_confusion_matrix(training_results,\n",
    "                                                 validation_dictionary)"
   ]
  },
  {
   "cell_type": "markdown",
   "metadata": {
    "collapsed": false,
    "jupyter": {
     "outputs_hidden": false
    },
    "pycharm": {
     "name": "#%% md\n"
    }
   },
   "source": [
    "# Calculate the AUC which is the area under the curve of the ROC curve. The AUC is a measure of how well the model can distinguish between the positive and negative classes."
   ]
  },
  {
   "cell_type": "code",
   "execution_count": 8,
   "metadata": {
    "collapsed": false,
    "jupyter": {
     "outputs_hidden": false
    },
    "pycharm": {
     "name": "#%%\n"
    }
   },
   "outputs": [
    {
     "name": "stdout",
     "output_type": "stream",
     "text": [
      "0.95\n"
     ]
    }
   ],
   "source": [
    "auc = get_auc(confusion_matrix)\n",
    "print(auc)"
   ]
  },
  {
   "cell_type": "markdown",
   "metadata": {
    "collapsed": false,
    "jupyter": {
     "outputs_hidden": false
    },
    "pycharm": {
     "name": "#%% md\n"
    }
   },
   "source": [
    "# Get the most similar document sentences which will return a list of the most similar sentences in the training data."
   ]
  },
  {
   "cell_type": "markdown",
   "metadata": {},
   "source": [
    "## Initialize the document model to get the most similar document"
   ]
  },
  {
   "cell_type": "code",
   "execution_count": 9,
   "metadata": {},
   "outputs": [],
   "source": [
    "doc2vecdocuments = Processing(training_directory='../training_data',\n",
    "                                  test_directory='../test_data',\n",
    "                                  document_or_sentences='document',\n",
    "                                  lemmatize_or_stemming='lemmatize')\n",
    "doc2vecdocuments.train_model()"
   ]
  },
  {
   "cell_type": "code",
   "execution_count": 10,
   "metadata": {
    "collapsed": false,
    "jupyter": {
     "outputs_hidden": false
    },
    "pycharm": {
     "name": "#%%\n"
    }
   },
   "outputs": [],
   "source": [
    "top = doc2vecdocuments.get_most_similar_documents('../test_data/FID-01.txt')\n",
    "lst = doc2vec.get_most_similar_document_sentences(\n",
    "        '../test_data/FID-01.txt')"
   ]
  },
  {
   "cell_type": "markdown",
   "metadata": {
    "collapsed": false,
    "jupyter": {
     "outputs_hidden": false
    },
    "pycharm": {
     "name": "#%% md\n"
    }
   },
   "source": [
    "### Get the plagiarism sentences which will return a list of the most similar sentences in the training data. As well as the plagiarism percentage for the whole document."
   ]
  },
  {
   "cell_type": "code",
   "execution_count": 11,
   "metadata": {
    "collapsed": false,
    "jupyter": {
     "outputs_hidden": false
    },
    "pycharm": {
     "name": "#%%\n"
    }
   },
   "outputs": [
    {
     "name": "stdout",
     "output_type": "stream",
     "text": [
      "PLAGIARISM DETECTED\n",
      "\n",
      "Sentence: 'ï»¿This article delves into the intricacies of adaptive fuzzy event-triggered formation tracking control for nonholonomic multirobot systems characterized by infinite actuator faults and range constraints.' || presents plagiarism from  'org-076.txt' sentence 'ï»¿This article delves into the intricacies of adaptive fuzzy event-triggered formation tracking control for nonholonomic multirobot systems characterized by infinite actuator faults and range constraints.'\n",
      "\n",
      " Sentence: Traditional cheating detection methods have many disadvantages, such as difficult to detect covert equipment cheating, multi-source cheating, difficult to distinguish plagiarists from plagiarists, difficult to distinguish plagiarists from victims, or plagiarism from coincidences. || does not present plagiarism\n",
      "\n",
      " Sentence: 'To address these issues, we leverage the power of fuzzy logic systems (FLSs) and employ adaptive methods to approximate unknown nonlinear functions and uncertain parameters present in robotic dynamics.' || presents plagiarism from  'org-076.txt' sentence 'To address these issues, we leverage the power of fuzzy logic systems (FLSs) and employ adaptive methods to approximate unknown nonlinear functions and uncertain parameters present in robotic dynamics.'\n",
      "\n",
      " Sentence: 'In the course of information exploration, the problems of collision avoidance and connectivity maintenance are ever present due to limitations of distance and visual fields.' || presents plagiarism from  'org-076.txt' sentence 'In the course of information exploration, the problems of collision avoidance and connectivity maintenance are ever present due to limitations of distance and visual fields.'\n",
      "\n",
      " Sentence: In this paper, the concept of knowledge point mastery Index is introduced to measure studentsâ mastery of a certain knowledge point, and a test method of cheating based on improved cognitive diagnostic model is proposed. || does not present plagiarism\n",
      "\n",
      " Sentence: 'Furthermore, to reduce the number of controller executions and compensate for any effect arising from infinite actuator failures, robots engage with their leader at the moment of actuator faults using fewer network communication resources yet maintain uninterrupted tracking of the desired trajectory generated by the leader.' || presents plagiarism from  'org-076.txt' sentence 'Furthermore, to reduce the number of controller executions and compensate for any effect arising from infinite actuator failures, robots engage with their leader at the moment of actuator faults using fewer network communication resources yet maintain uninterrupted tracking of the desired trajectory generated by the leader.'\n",
      "\n",
      " Sentence: 'We guarantee that all signals are semi-global uniformly ultimately bounded (SGUUB).' || presents plagiarism from  'org-076.txt' sentence 'We guarantee that all signals are semi-global uniformly ultimately bounded (SGUUB).'\n",
      "\n",
      " Sentence: Ultimately, we demonstrate the practical feasibility of the ETFT control strategy for nonholonomic multirobot systems.The experiments show that the precision and recall rate of this method are significantly higher than those of the method based on the false-same rate, the method based on the false-same rate and the right-same rate and the method based on the Person-Fit index. || does not present plagiarism\n",
      "\n",
      " Plagiarism percentage: \n",
      "0.5117475261455815\n",
      "\n",
      " Most similar document(s): \n",
      "org-076.txt with similarity: 0.84\n",
      "\n"
     ]
    }
   ],
   "source": [
    "print(decision.get_plagiarism_sentences(lst))"
   ]
  },
  {
   "cell_type": "code",
   "execution_count": null,
   "metadata": {},
   "outputs": [],
   "source": []
  }
 ],
 "metadata": {
  "kernelspec": {
   "display_name": "Python 3 (ipykernel)",
   "language": "python",
   "name": "python3"
  },
  "language_info": {
   "codemirror_mode": {
    "name": "ipython",
    "version": 3
   },
   "file_extension": ".py",
   "mimetype": "text/x-python",
   "name": "python",
   "nbconvert_exporter": "python",
   "pygments_lexer": "ipython3",
   "version": "3.11.2"
  }
 },
 "nbformat": 4,
 "nbformat_minor": 4
}