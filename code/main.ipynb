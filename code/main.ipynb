{
 "cells": [
  {
   "cell_type": "code",
   "execution_count": 1,
   "metadata": {},
   "outputs": [],
   "source": [
    "from processing import Processing"
   ]
  },
  {
   "cell_type": "code",
   "execution_count": 2,
   "metadata": {
    "collapsed": false,
    "jupyter": {
     "outputs_hidden": false
    },
    "pycharm": {
     "name": "#%%\n"
    }
   },
   "outputs": [],
   "source": [
    "doc2vec_sentences = Processing(training_directory='../training_data',\n",
    "                                test_directory='../test_data',\n",
    "                                document_or_sentences='sentences',\n",
    "                                lemmatize_or_stemming='lemmatize')\n",
    "doc2vec_sentences.train_model()"
   ]
  },
  {
   "cell_type": "code",
   "execution_count": 3,
   "metadata": {
    "collapsed": false,
    "jupyter": {
     "outputs_hidden": false
    },
    "pycharm": {
     "name": "#%%\n"
    }
   },
   "outputs": [],
   "source": [
    "doc2vec_documents = Processing(training_directory='../training_data',\n",
    "                                    test_directory='../test_data',\n",
    "                                    document_or_sentences='document',\n",
    "                                    lemmatize_or_stemming='lemmatize')\n",
    "doc2vec_documents.train_model()"
   ]
  },
  {
   "cell_type": "code",
   "execution_count": 4,
   "metadata": {
    "collapsed": false,
    "jupyter": {
     "outputs_hidden": false
    },
    "pycharm": {
     "name": "#%%\n"
    }
   },
   "outputs": [
    {
     "name": "stdout",
     "output_type": "stream",
     "text": [
      "[['This study conducted a thorough analysis of research papers examining the utilization of artificial intelligence (AI) in the field of education.', 0.5363128185272217, 'org-087.txt', 2, 'Methodology: The study adopted a desktop research methodology.'], ['It aimed to uncover the prevailing research trends and challenges associated with AI implementation in education.', 0.5041351318359375, 'org-004.txt', 6, 'Implementing artificial intelligence is a strategic and critical factor in educational development.'], [\"A total of 100 papers, comprising 63 empirical studies (from 74 papers) and 37 analytical studies, were chosen from the Social Sciences Citation Index database's education and educational research category spanning the period from 2010 to 2020.\", 0.8753973841667175, 'org-001.txt', 2, 'A total of 100 papers including 63 empirical papers (74 studies) and 37 analytic papers were selected from the education and educational research category of Social Sciences Citation Index database from 2010 to 2020.'], ['The content analysis revealed that the research inquiries could be categorized into three layers: the development layer (encompassing classification, matching, recommendation, and deep learning), the application layer (encompassing feedback, reasoning, and adaptive learning), and the integration layer (covering affective computing, role-playing, immersive learning, and gamification).', 0.8530668616294861, 'org-001.txt', 3, 'The content analysis showed that the research questions could be classified into development layer (classification, matching, recommendation, and deep learning), application layer (feedback, reasoning, and adaptive learning), and integration layer (affection computing, role-playing, immersive learning, and gamification).'], ['Additionally, the study identified four emerging research trends: the Internet of Things, swarm intelligence, deep learning, and neuroscience.', 0.509925901889801, 'org-087.txt', 13, 'Unique Contribution to Theory, Practice and Policy: The Social Learning theory, Information Foraging theory and Cognitive Load theory may be used to anchor future studies on recommender systems in knowledge discovery.'], [\"It also suggested conducting further assessments of AI's impact on education.\", 0.6044390797615051, 'org-083.txt', 3, 'The findings are categorized into different domains including education, healthcare, ML algorithms (auto-encoders and reinforcement learning), e-commerce, and digital journalism.'], ['However, the study also highlighted potential challenges stemming from AI adoption in education, such as the inappropriate use of AI techniques, shifts in the roles of teachers and students, and various social and ethical concerns.', 0.6513885855674744, 'org-009.txt', 6, 'Additionally, the use of generative AI in education raises ethical concerns such as the potential for unethical or dishonest use by students and the potential unemployment of humans who are made redundant by technology.'], ['These findings offer valuable insights into the landscape of AI in education, enhancing the theoretical groundwork in this domain and fostering opportunities for collaborative research between educators and AI specialists.', 0.5218859910964966, 'org-001.txt', 6, 'The results provide insights into an overview of the AI used for education domain, which helps to strengthen the theoretical foundation of AI in education and provides a promising channel for educators and AI engineers to carry out further collaborative research.']]\n"
     ]
    }
   ],
   "source": [
    "print(doc2vec_sentences.get_most_similar_document_sentences('../test_data/FID-11-mine.txt'))"
   ]
  },
  {
   "cell_type": "code",
   "execution_count": 5,
   "metadata": {
    "collapsed": false,
    "jupyter": {
     "outputs_hidden": false
    },
    "pycharm": {
     "name": "#%%\n"
    }
   },
   "outputs": [
    {
     "name": "stdout",
     "output_type": "stream",
     "text": [
      "[[1.         0.7090416 ]\n",
      " [0.7090416  0.99999994]]\n"
     ]
    }
   ],
   "source": [
    "print(doc2vec_sentences.get_cosine_similarity_two_sentences('this study provide data',\n",
    "                                                       'this study provides data'))"
   ]
  },
  {
   "cell_type": "code",
   "execution_count": 6,
   "metadata": {
    "collapsed": false,
    "jupyter": {
     "outputs_hidden": false
    },
    "pycharm": {
     "name": "#%%\n"
    }
   },
   "outputs": [
    {
     "name": "stdout",
     "output_type": "stream",
     "text": [
      "{'org-001.txt': 0.7881622314453125, 'org-007.txt': 0.5623239278793335, 'org-081.txt': 0.5002803206443787, 'org-002.txt': 0.49258431792259216, 'org-064.txt': 0.48726341128349304, 'org-087.txt': 0.4290209412574768, 'org-042.txt': 0.42485520243644714, 'org-086.txt': 0.4142049252986908, 'org-082.txt': 0.4088006913661957, 'org-102.txt': 0.39921581745147705, 'org-098.txt': 0.3693402409553528, 'org-008.txt': 0.36378806829452515, 'org-006.txt': 0.3607913851737976, 'org-083.txt': 0.35994812846183777, 'org-010.txt': 0.3593226671218872, 'org-004.txt': 0.3566191494464874, 'org-005.txt': 0.35393983125686646, 'org-056.txt': 0.3308313488960266, 'org-062.txt': 0.3172655403614044, 'org-090.txt': 0.3103320896625519, 'org-088.txt': 0.30656498670578003, 'org-099.txt': 0.30606743693351746, 'org-020.txt': 0.3028751611709595}\n"
     ]
    }
   ],
   "source": [
    "print(doc2vec_documents.get_most_similar_documents('../test_data/FID-11-mine.txt', 0.3, 30))"
   ]
  },
  {
   "cell_type": "code",
   "execution_count": 7,
   "metadata": {
    "collapsed": false,
    "jupyter": {
     "outputs_hidden": false
    },
    "pycharm": {
     "name": "#%%\n"
    }
   },
   "outputs": [
    {
     "name": "stdout",
     "output_type": "stream",
     "text": [
      "[[1.        0.7299204]\n",
      " [0.7299204 1.0000001]]\n"
     ]
    }
   ],
   "source": [
    "print(doc2vec_documents.get_cosine_similarity_two_sentences('this study provide data',\n",
    "                                                       'this study provides data'))"
   ]
  },
  {
   "cell_type": "code",
   "execution_count": 8,
   "metadata": {
    "collapsed": false,
    "jupyter": {
     "outputs_hidden": false
    },
    "pycharm": {
     "name": "#%%\n"
    }
   },
   "outputs": [],
   "source": [
    "from decision import Decision"
   ]
  },
  {
   "cell_type": "code",
   "execution_count": 9,
   "metadata": {},
   "outputs": [
    {
     "name": "stdout",
     "output_type": "stream",
     "text": [
      "0.956645139961415\n"
     ]
    }
   ],
   "source": [
    "lst = doc2vec_sentences.get_most_similar_document_sentences(\n",
    "        '../test_data/FID-03.txt')\n",
    "decision = Decision(cosine_similarity_threshhold = 0.70, plagiarism_percentage_threshhold = 0.35)\n",
    "print(decision.get_plagiarism_pct_sentences(lst))"
   ]
  },
  {
   "cell_type": "code",
   "execution_count": 10,
   "metadata": {},
   "outputs": [],
   "source": [
    "lst = doc2vec_sentences.get_most_similar_document_sentences(\n",
    "        '../test_data/FID-03.txt')\n",
    "df = decision.get_plagiarism_sentences(lst)"
   ]
  },
  {
   "cell_type": "code",
   "execution_count": 11,
   "metadata": {},
   "outputs": [
    {
     "data": {
      "text/html": [
       "<div>\n",
       "<style scoped>\n",
       "    .dataframe tbody tr th:only-of-type {\n",
       "        vertical-align: middle;\n",
       "    }\n",
       "\n",
       "    .dataframe tbody tr th {\n",
       "        vertical-align: top;\n",
       "    }\n",
       "\n",
       "    .dataframe thead th {\n",
       "        text-align: right;\n",
       "    }\n",
       "</style>\n",
       "<table border=\"1\" class=\"dataframe\">\n",
       "  <thead>\n",
       "    <tr style=\"text-align: right;\">\n",
       "      <th></th>\n",
       "      <th>sentence</th>\n",
       "      <th>cosine_score</th>\n",
       "      <th>file_name</th>\n",
       "      <th>file_sentence_number</th>\n",
       "      <th>similar_sentence</th>\n",
       "    </tr>\n",
       "  </thead>\n",
       "  <tbody>\n",
       "    <tr>\n",
       "      <th>0</th>\n",
       "      <td>At present, the application of Artificial Inte...</td>\n",
       "      <td>0.946073</td>\n",
       "      <td>org-016.txt</td>\n",
       "      <td>1</td>\n",
       "      <td>At present, the application of Artificial Inte...</td>\n",
       "    </tr>\n",
       "    <tr>\n",
       "      <th>1</th>\n",
       "      <td>However, AI technology has certain requirement...</td>\n",
       "      <td>0.948685</td>\n",
       "      <td>org-016.txt</td>\n",
       "      <td>2</td>\n",
       "      <td>However, AI technology has certain requirement...</td>\n",
       "    </tr>\n",
       "    <tr>\n",
       "      <th>2</th>\n",
       "      <td>At present, the visual platform of embedded sy...</td>\n",
       "      <td>0.965815</td>\n",
       "      <td>org-016.txt</td>\n",
       "      <td>3</td>\n",
       "      <td>At present, the visual platform of embedded sy...</td>\n",
       "    </tr>\n",
       "    <tr>\n",
       "      <th>3</th>\n",
       "      <td>The test results showed that when other condit...</td>\n",
       "      <td>0.981702</td>\n",
       "      <td>org-016.txt</td>\n",
       "      <td>6</td>\n",
       "      <td>The test results showed that when other condit...</td>\n",
       "    </tr>\n",
       "    <tr>\n",
       "      <th>4</th>\n",
       "      <td>This paper designed an EP Vision System (VS) b...</td>\n",
       "      <td>0.881744</td>\n",
       "      <td>org-016.txt</td>\n",
       "      <td>4</td>\n",
       "      <td>This paper designed an EP Vision System (VS) b...</td>\n",
       "    </tr>\n",
       "    <tr>\n",
       "      <th>5</th>\n",
       "      <td>The platform combined the embedded hardware de...</td>\n",
       "      <td>0.960145</td>\n",
       "      <td>org-016.txt</td>\n",
       "      <td>5</td>\n",
       "      <td>The platform combined the embedded hardware de...</td>\n",
       "    </tr>\n",
       "    <tr>\n",
       "      <th>6</th>\n",
       "      <td>It showed the positive relationship between AI...</td>\n",
       "      <td>0.858783</td>\n",
       "      <td>org-016.txt</td>\n",
       "      <td>9</td>\n",
       "      <td>It showed the positive relationship between AI...</td>\n",
       "    </tr>\n",
       "    <tr>\n",
       "      <th>7</th>\n",
       "      <td>The proportion of positive evaluation of Syste...</td>\n",
       "      <td>0.966399</td>\n",
       "      <td>org-016.txt</td>\n",
       "      <td>8</td>\n",
       "      <td>The proportion of positive evaluation of Syste...</td>\n",
       "    </tr>\n",
       "    <tr>\n",
       "      <th>8</th>\n",
       "      <td>However, their positive evaluation of System Y...</td>\n",
       "      <td>0.984106</td>\n",
       "      <td>org-016.txt</td>\n",
       "      <td>7</td>\n",
       "      <td>However, their positive evaluation of System Y...</td>\n",
       "    </tr>\n",
       "    <tr>\n",
       "      <th>9</th>\n",
       "      <td>However, their positive evaluation of System Y...</td>\n",
       "      <td>0.983862</td>\n",
       "      <td>org-016.txt</td>\n",
       "      <td>7</td>\n",
       "      <td>However, their positive evaluation of System Y...</td>\n",
       "    </tr>\n",
       "  </tbody>\n",
       "</table>\n",
       "</div>"
      ],
      "text/plain": [
       "                                            sentence  cosine_score  \\\n",
       "0  At present, the application of Artificial Inte...      0.946073   \n",
       "1  However, AI technology has certain requirement...      0.948685   \n",
       "2  At present, the visual platform of embedded sy...      0.965815   \n",
       "3  The test results showed that when other condit...      0.981702   \n",
       "4  This paper designed an EP Vision System (VS) b...      0.881744   \n",
       "5  The platform combined the embedded hardware de...      0.960145   \n",
       "6  It showed the positive relationship between AI...      0.858783   \n",
       "7  The proportion of positive evaluation of Syste...      0.966399   \n",
       "8  However, their positive evaluation of System Y...      0.984106   \n",
       "9  However, their positive evaluation of System Y...      0.983862   \n",
       "\n",
       "     file_name  file_sentence_number  \\\n",
       "0  org-016.txt                     1   \n",
       "1  org-016.txt                     2   \n",
       "2  org-016.txt                     3   \n",
       "3  org-016.txt                     6   \n",
       "4  org-016.txt                     4   \n",
       "5  org-016.txt                     5   \n",
       "6  org-016.txt                     9   \n",
       "7  org-016.txt                     8   \n",
       "8  org-016.txt                     7   \n",
       "9  org-016.txt                     7   \n",
       "\n",
       "                                    similar_sentence  \n",
       "0  At present, the application of Artificial Inte...  \n",
       "1  However, AI technology has certain requirement...  \n",
       "2  At present, the visual platform of embedded sy...  \n",
       "3  The test results showed that when other condit...  \n",
       "4  This paper designed an EP Vision System (VS) b...  \n",
       "5  The platform combined the embedded hardware de...  \n",
       "6  It showed the positive relationship between AI...  \n",
       "7  The proportion of positive evaluation of Syste...  \n",
       "8  However, their positive evaluation of System Y...  \n",
       "9  However, their positive evaluation of System Y...  "
      ]
     },
     "execution_count": 11,
     "metadata": {},
     "output_type": "execute_result"
    }
   ],
   "source": [
    "df"
   ]
  },
  {
   "cell_type": "code",
   "execution_count": null,
   "outputs": [],
   "source": [
    "decision = Decision(cosine_similarity_threshhold = 0.70, plagiarism_percentage_threshhold = 0.35)\n",
    "plagiarism_percentage = decision.get_plagiarism_pct_sentences(lst)\n",
    "print(decision.is_plagiarism(plagiarism_percentage, 0.35))"
   ],
   "metadata": {
    "collapsed": false,
    "pycharm": {
     "name": "#%%\n"
    }
   }
  },
  {
   "cell_type": "code",
   "execution_count": null,
   "outputs": [],
   "source": [],
   "metadata": {
    "collapsed": false,
    "pycharm": {
     "name": "#%%\n"
    }
   }
  },
  {
   "cell_type": "code",
   "execution_count": null,
   "metadata": {},
   "outputs": [],
   "source": []
  }
 ],
 "metadata": {
  "kernelspec": {
   "display_name": "Python 3 (ipykernel)",
   "language": "python",
   "name": "python3"
  },
  "language_info": {
   "codemirror_mode": {
    "name": "ipython",
    "version": 3
   },
   "file_extension": ".py",
   "mimetype": "text/x-python",
   "name": "python",
   "nbconvert_exporter": "python",
   "pygments_lexer": "ipython3",
   "version": "3.11.2"
  }
 },
 "nbformat": 4,
 "nbformat_minor": 4
}