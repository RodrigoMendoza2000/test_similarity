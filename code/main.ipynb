{
 "cells": [
  {
   "cell_type": "markdown",
   "source": [
    "# Import classes and functions"
   ],
   "metadata": {
    "collapsed": false,
    "pycharm": {
     "name": "#%% md\n"
    }
   }
  },
  {
   "cell_type": "code",
   "execution_count": null,
   "outputs": [],
   "source": [
    "from processing import Processing\n",
    "from decision import Decision, get_auc"
   ],
   "metadata": {
    "collapsed": false,
    "pycharm": {
     "name": "#%%\n"
    }
   }
  },
  {
   "cell_type": "markdown",
   "source": [
    "# Initialize the class Processing and train the model which will process all of our data with the following parameters:"
   ],
   "metadata": {
    "collapsed": false,
    "pycharm": {
     "name": "#%% md\n"
    }
   }
  },
  {
   "cell_type": "code",
   "execution_count": null,
   "outputs": [],
   "source": [
    "doc2vec = Processing(training_directory='../training_data',\n",
    "                     test_directory='../test_data',\n",
    "                     document_or_sentences='sentences',\n",
    "                     lemmatize_or_stemming='lemmatize')"
   ],
   "metadata": {
    "collapsed": false,
    "pycharm": {
     "name": "#%%\n"
    }
   }
  },
  {
   "cell_type": "code",
   "execution_count": null,
   "outputs": [],
   "source": [
    "doc2vec.train_model()"
   ],
   "metadata": {
    "collapsed": false,
    "pycharm": {
     "name": "#%%\n"
    }
   }
  },
  {
   "cell_type": "markdown",
   "source": [
    "# Get the training results which returns a dictionary with the file name as the key and the value as the cosine similarity between the document and the training data. This will be used to evaluate the accuracy of the model."
   ],
   "metadata": {
    "collapsed": false,
    "pycharm": {
     "name": "#%% md\n"
    }
   }
  },
  {
   "cell_type": "code",
   "execution_count": null,
   "outputs": [],
   "source": [
    "training_results = doc2vec.get_training_results()"
   ],
   "metadata": {
    "collapsed": false,
    "pycharm": {
     "name": "#%%\n"
    }
   }
  },
  {
   "cell_type": "markdown",
   "source": [
    "## The classification of the test documents. True is that the text is a plagiarism and False is that the text is not a plagiarism."
   ],
   "metadata": {
    "collapsed": false,
    "pycharm": {
     "name": "#%% md\n"
    }
   }
  },
  {
   "cell_type": "code",
   "execution_count": null,
   "outputs": [],
   "source": [
    "validation_dictionary = {\n",
    "        'FID-01.txt': True,\n",
    "        'FID-02.txt': True,\n",
    "        'FID-03.txt': True,\n",
    "        'FID-04.txt': True,\n",
    "        'FID-05.txt': True,\n",
    "        'FID-06.txt': True,\n",
    "        'FID-07.txt': True,\n",
    "        'FID-08.txt': True,\n",
    "        'FID-09.txt': True,\n",
    "        'FID-10.txt': True,\n",
    "        'org-002.txt': False,\n",
    "        'org-005.txt': False,\n",
    "        'org-012.txt': False,\n",
    "        'org-020.txt': False,\n",
    "        'org-026.txt': False,\n",
    "        'org-040.txt': False,\n",
    "        'org-047.txt': False,\n",
    "        'org-056.txt': False,\n",
    "        'org-059.txt': False,\n",
    "        'org-061.txt': False,\n",
    "        'org-065.txt': False,\n",
    "        'org-071.txt': False,\n",
    "        'org-081.txt': False,\n",
    "        'org-084.txt': False,\n",
    "        'org-090.txt': False,\n",
    "        'org-093.txt': False,\n",
    "        'org-100.txt': False,\n",
    "        'org-001.txt': False,\n",
    "        'org-110.txt': False\n",
    "}"
   ],
   "metadata": {
    "collapsed": false,
    "pycharm": {
     "name": "#%%\n"
    }
   }
  },
  {
   "cell_type": "markdown",
   "source": [
    "### Initialize the Decision class and get the confusion matrix which will be used to calculate the AUC."
   ],
   "metadata": {
    "collapsed": false,
    "pycharm": {
     "name": "#%% md\n"
    }
   }
  },
  {
   "cell_type": "code",
   "execution_count": null,
   "outputs": [],
   "source": [
    "decision = Decision()"
   ],
   "metadata": {
    "collapsed": false,
    "pycharm": {
     "name": "#%%\n"
    }
   }
  },
  {
   "cell_type": "code",
   "execution_count": null,
   "outputs": [],
   "source": [
    "confusion_matrix = decision.get_confusion_matrix(training_results,\n",
    "                                                 validation_dictionary)"
   ],
   "metadata": {
    "collapsed": false,
    "pycharm": {
     "name": "#%%\n"
    }
   }
  },
  {
   "cell_type": "markdown",
   "source": [
    "# Calculate the AUC which is the area under the curve of the ROC curve. The AUC is a measure of how well the model can distinguish between the positive and negative classes."
   ],
   "metadata": {
    "collapsed": false,
    "pycharm": {
     "name": "#%% md\n"
    }
   }
  },
  {
   "cell_type": "code",
   "execution_count": null,
   "outputs": [],
   "source": [
    "auc = get_auc(confusion_matrix)\n",
    "print(auc)"
   ],
   "metadata": {
    "collapsed": false,
    "pycharm": {
     "name": "#%%\n"
    }
   }
  },
  {
   "cell_type": "markdown",
   "source": [
    "# Get the most similar document sentences which will return a list of the most similar sentences in the training data."
   ],
   "metadata": {
    "collapsed": false,
    "pycharm": {
     "name": "#%% md\n"
    }
   }
  },
  {
   "cell_type": "code",
   "execution_count": null,
   "outputs": [],
   "source": [
    "lst = doc2vec.get_most_similar_document_sentences(\n",
    "        '../test_data/FID-01.txt')"
   ],
   "metadata": {
    "collapsed": false,
    "pycharm": {
     "name": "#%%\n"
    }
   }
  },
  {
   "cell_type": "markdown",
   "source": [
    "# Get the plagiarism sentences which will return a list of the most similar sentences in the training data. As well as the plagiarism percentage for the whole document."
   ],
   "metadata": {
    "collapsed": false,
    "pycharm": {
     "name": "#%% md\n"
    }
   }
  },
  {
   "cell_type": "code",
   "execution_count": null,
   "outputs": [],
   "source": [
    "print(decision.get_plagiarism_sentences(lst))"
   ],
   "metadata": {
    "collapsed": false,
    "pycharm": {
     "name": "#%%\n"
    }
   }
  }
 ],
 "metadata": {
  "kernelspec": {
   "display_name": "Python 3",
   "language": "python",
   "name": "python3"
  },
  "language_info": {
   "codemirror_mode": {
    "name": "ipython",
    "version": 2
   },
   "file_extension": ".py",
   "mimetype": "text/x-python",
   "name": "python",
   "nbconvert_exporter": "python",
   "pygments_lexer": "ipython2",
   "version": "2.7.6"
  }
 },
 "nbformat": 4,
 "nbformat_minor": 0
}